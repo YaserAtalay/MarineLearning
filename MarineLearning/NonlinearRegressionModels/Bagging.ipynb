{
 "cells": [
  {
   "cell_type": "markdown",
   "id": "b56d1b5f-f2cb-4329-90fe-cfa91e639cc5",
   "metadata": {},
   "source": [
    "# Bagging Trees"
   ]
  },
  {
   "cell_type": "code",
   "execution_count": 4,
   "id": "d8c481a2-262f-44ee-baf2-71c5657a9807",
   "metadata": {},
   "outputs": [],
   "source": [
    "import pandas as pd\n",
    "import numpy as np\n",
    "import matplotlib.pyplot as plt\n",
    "from sklearn.tree import DecisionTreeRegressor, DecisionTreeClassifier\n",
    "from sklearn.model_selection import train_test_split, GridSearchCV,cross_val_score\n",
    "from skompiler import skompile\n",
    "from sklearn.metrics import mean_squared_error, r2_score\n",
    "from sklearn.model_selection import GridSearchCV\n",
    "from sklearn.ensemble import BaggingRegressor\n",
    "\n",
    "from warnings import filterwarnings\n",
    "filterwarnings('ignore')"
   ]
  },
  {
   "cell_type": "code",
   "execution_count": 5,
   "id": "36fd20fa-2bb6-4dac-bea6-b5da7ca6ac27",
   "metadata": {},
   "outputs": [],
   "source": [
    "hit = pd.read_csv(\"Hitters.csv\")\n",
    "df = hit.copy()\n",
    "df = df.dropna()\n",
    "dms = pd.get_dummies(df[['League', 'Division', 'NewLeague']])\n",
    "y = df[\"Salary\"]\n",
    "X_ = df.drop(['Salary', 'League', 'Division', 'NewLeague'], axis=1).astype('float64')\n",
    "X = pd.concat([X_, dms[['League_N', 'Division_W', 'NewLeague_N']]], axis=1)\n",
    "X_train, X_test, y_train, y_test = train_test_split(X, y, test_size=0.25, random_state=42)"
   ]
  },
  {
   "cell_type": "code",
   "execution_count": 6,
   "id": "5ce54bd5-7aa6-489e-8e82-43db96aed18d",
   "metadata": {},
   "outputs": [
    {
     "data": {
      "text/plain": [
       "BaggingRegressor(bootstrap_features=True)"
      ]
     },
     "execution_count": 6,
     "metadata": {},
     "output_type": "execute_result"
    }
   ],
   "source": [
    "bag_model = BaggingRegressor(bootstrap_features = True)\n",
    "bag_model.fit(X_train, y_train)"
   ]
  },
  {
   "cell_type": "code",
   "execution_count": 7,
   "id": "ea4d7bde-3655-4bb0-8122-78a0f2a9a52e",
   "metadata": {},
   "outputs": [
    {
     "data": {
      "text/plain": [
       "10"
      ]
     },
     "execution_count": 7,
     "metadata": {},
     "output_type": "execute_result"
    }
   ],
   "source": [
    "bag_model.n_estimators"
   ]
  },
  {
   "cell_type": "code",
   "execution_count": 9,
   "id": "a31ab932-b0cd-4000-9375-bf418f8cb935",
   "metadata": {},
   "outputs": [
    {
     "data": {
      "text/plain": [
       "[DecisionTreeRegressor(random_state=1962488388),\n",
       " DecisionTreeRegressor(random_state=1727490216),\n",
       " DecisionTreeRegressor(random_state=1819456416),\n",
       " DecisionTreeRegressor(random_state=790982416),\n",
       " DecisionTreeRegressor(random_state=1765918436),\n",
       " DecisionTreeRegressor(random_state=1064550299),\n",
       " DecisionTreeRegressor(random_state=1241523460),\n",
       " DecisionTreeRegressor(random_state=346301746),\n",
       " DecisionTreeRegressor(random_state=626498946),\n",
       " DecisionTreeRegressor(random_state=1089658259)]"
      ]
     },
     "execution_count": 9,
     "metadata": {},
     "output_type": "execute_result"
    }
   ],
   "source": [
    "bag_model.estimators_ # bunlarin hepsi birbirinden farkli agaclar"
   ]
  },
  {
   "cell_type": "code",
   "execution_count": 11,
   "id": "50c48a63-21ea-4207-a311-19ef5aeec0d9",
   "metadata": {
    "collapsed": true,
    "jupyter": {
     "outputs_hidden": true
    },
    "tags": []
   },
   "outputs": [
    {
     "data": {
      "text/plain": [
       "[array([ 31,  97, 140,  67,   7, 151,  61,  68, 112, 124,  28, 195, 102,\n",
       "        189,  30,  83, 121,  39, 128,   1, 143,  36, 100,  75,  45, 140,\n",
       "        140,  34, 159,  30, 165,  12,  34,  31, 119,  11, 113,  23, 148,\n",
       "        132,  98,  23, 107, 114, 185,  13, 145,  12, 164,  82, 187, 136,\n",
       "        136,  75, 157, 179, 156, 123,  70,  91,  43,  84, 128,  92,  94,\n",
       "         78, 125, 180,  30,  17,  72,  10, 152,  71, 186, 179, 133, 107,\n",
       "         58, 127,  59, 177, 189,  27,  65,  93,  63, 163,  53, 187,  55,\n",
       "        166, 121, 141, 105,  88, 114, 105, 126, 154, 101, 125, 102, 147,\n",
       "        121, 125, 145, 131,  40, 152, 144, 144,   9, 102, 102,  75, 160,\n",
       "        132, 166,  18, 160,  19, 189,   1,  16,  67,  90,  40,  42, 186,\n",
       "        152,   8, 166,   1,  59, 174, 157,  44,  69, 185,  70, 166,  27,\n",
       "         42,  63,  85, 172, 183,  81,  59, 122,  13,  90, 175, 129, 141,\n",
       "         61,  60, 173, 171, 126,  90,  61, 185,   0, 176, 128,  96,  83,\n",
       "         25,  94, 121,   6,  81, 123, 129,  69,   9, 188,   1, 168, 147,\n",
       "        157, 130, 165, 127,  51,  33,  38, 161, 121,   0,  83, 192, 138,\n",
       "        123, 139]),\n",
       " array([183, 177, 132, 142,  14,  32,  32, 127,  87,   0, 168, 128, 186,\n",
       "        159, 175, 115,  52, 158,  31, 155,  65,  96, 111, 110, 137, 113,\n",
       "          0,  13, 111, 112, 105, 154,  53,  80,  50, 181, 158, 184,   0,\n",
       "        161, 141,  65,  75, 114,  60,  75,  88, 131, 193,  88, 140,  13,\n",
       "         84, 163,  69,  25,  34,  86,  89, 139, 122, 103,  14, 123, 189,\n",
       "        193,  20, 181,  45, 192, 108,  39,  71,  98,  89, 178, 101, 192,\n",
       "        150, 137,   8,  24, 196,  42, 132, 192, 183, 164, 128,  90,  91,\n",
       "         10,  33, 126,  94,  71, 133,  93,  42, 180, 185,  69,  61,  89,\n",
       "         30, 141,   8,  20,   3, 157,  49,  99, 137, 137,  83, 152, 193,\n",
       "         59,  77,  25, 190, 138,  80,  12, 123,  20, 155, 137, 137, 191,\n",
       "         93, 189,  17, 146, 120, 175,  29,  42,   0,  32, 144,  71, 134,\n",
       "         58,  75, 196,  46, 196, 186, 188, 112, 160, 169,  94,  73, 133,\n",
       "         10,  12, 170, 105,  75, 139,  24, 155, 140,  69, 123,   2, 123,\n",
       "        149, 143,  11,  23,  65,  24,  35,  42,  13, 144,  48,  18, 130,\n",
       "        148, 142,  97,  14,  63,  73,  34,  76,  60, 179,  85,  17,  56,\n",
       "        111,  89]),\n",
       " array([ 30, 156,  32, 108, 139,  34,  39,  20,  89,  28, 153, 106,  34,\n",
       "         14,  79,  26, 156,  83,   5,  57,  84,  60,   6, 174, 143, 134,\n",
       "        186,  76,  47, 117,  63,  78,  24, 127, 106, 166, 161,  59, 180,\n",
       "        100,  40,  86, 172,  73,  80,  75, 179,  65,  90,  86,  47,  32,\n",
       "        107, 192,  36, 186,  48, 173,  59, 160,  35,  53,  13,  72, 180,\n",
       "        106,  47,  38, 103, 145,  78,  96,  27, 125,  99,  27, 116,  31,\n",
       "        187,  65,  51,  72,  70, 162, 187,  65, 127,  38, 123,  51,  31,\n",
       "          0,  44,  16,  75, 110,  36,  66, 138, 149, 143, 154, 136,  27,\n",
       "         70, 132, 166, 142,  38,  60,  57,  56, 127, 121, 136, 192,  68,\n",
       "          7, 154, 149,  64, 115,  21,  37, 189,  45,  80,  66,  70,  75,\n",
       "         30, 189,  58,  88, 144,  92, 138, 141,  80,  84,  93,  80,  46,\n",
       "         31,  95, 139, 184,  51, 194,  41, 154,  27,  91,  29,  85,  36,\n",
       "         30, 103, 142,  14, 153,  33,  11,  30, 102, 136,  63,  80,  65,\n",
       "        152,  85, 116, 164,  91, 123, 159,  28,  36,  83, 108, 168,  79,\n",
       "        170,  21, 159, 185,  67, 135, 141, 169,  17, 147,  94, 171,  58,\n",
       "         96,  26]),\n",
       " array([ 62, 108,   7, 165,  15,  19,  98, 137, 105, 127,  19,  93, 169,\n",
       "        125, 195, 178,  24,  64, 127, 116,  58,  79,  42,  26,  32,  15,\n",
       "        110,  50,  99, 127, 111, 194, 101, 170,  74,  63, 116,  57, 159,\n",
       "          3, 172,   5, 179, 121, 118, 123, 126,   0,  98,  59,  87, 152,\n",
       "         48, 170, 173, 188,  25,  75,  85,  60,  41,  76,  77,  26, 103,\n",
       "         58, 110,  81, 128, 185,   3,  47, 109,   0, 110,   5,  51, 159,\n",
       "         85, 144,  77, 190, 103,  56, 152, 121,  62, 126,  67,  75,  35,\n",
       "        175,  42,  31,  21,  23, 153, 185, 174, 156,  29,  72, 114, 174,\n",
       "         49, 168, 131, 146, 129,  70,  85,  49,  20, 142, 126,  71, 151,\n",
       "        131,  82,  60, 193, 121,  69,  77,  27, 158, 140, 133, 117,  93,\n",
       "         29,  55, 122,  14, 156, 176,  38, 149, 186,  20,  87,  57, 101,\n",
       "         48, 127,  10,  74, 196, 126,  32, 142,  25, 106,  18, 162,  24,\n",
       "          4,  81,  48, 153, 124,  33, 188,  95, 145,  65,  10, 144,  24,\n",
       "         69,  68,   4,  46,  67,  37, 185,  23,  97,  19,  43,  19,  78,\n",
       "        186,  23, 179,  11, 191, 115, 137, 104,  95, 115, 182, 155,  46,\n",
       "         20,  11]),\n",
       " array([ 28, 176, 155,  45, 143, 168,  86,  78, 173,  80,  19,  97, 167,\n",
       "         85, 179,  21,  46, 181, 188, 192, 193,  31, 150,  60, 121, 144,\n",
       "         91,  45,  44, 146, 154,  92, 168,  33,  51,  97, 131, 129, 163,\n",
       "         55,  56, 190, 169,  75,  85, 156, 121, 194,  41, 136,  95,  79,\n",
       "        150, 192,   0,  62, 143, 148,  48, 134, 178,   7, 107,   2,  13,\n",
       "        145,  18, 109, 157, 125,   9, 163,  86,  69, 102, 170, 118,  63,\n",
       "        138, 182, 178,   2,  79,  58,   5,  78,  96,  24,  70,  79, 135,\n",
       "        131,  20, 153,  70,  67,  99, 146, 130, 182,  41, 135,  52, 195,\n",
       "        127,  83, 112, 178,  42,  81,  90,  49, 138, 186, 101,  19,  56,\n",
       "        104,  17,  45, 183, 159, 102, 109,  13,  28,  23, 189,  33, 167,\n",
       "        130, 141, 156,  83, 141,  59,  31, 129,  36,  41,  36,  24, 106,\n",
       "        121, 195,  16, 148,  68,  20,  98,  84,  22,  64,  25, 114,   6,\n",
       "        116, 162,  30,  84,  51,  84, 148, 101,  29, 107, 165, 105,  58,\n",
       "         32, 158,  32, 140,  87, 109,  88, 191,  32,  39,  47,  40, 163,\n",
       "         92,  95,  75, 183,  96,  48, 121, 112,  62, 143, 170,  17,  23,\n",
       "        191,  49]),\n",
       " array([171, 105, 170,  29, 103,  73,  58,  18,  28, 152, 165, 122,  24,\n",
       "        186,  32,   1,  97,  33,  21, 174, 194, 164, 163,  52, 127, 156,\n",
       "         77,  92, 136,  93, 159, 155,   1,  67,  88, 161, 101, 128, 159,\n",
       "         13, 100, 122, 182, 162, 130,  62,  87,   6, 159,  20,  52,  59,\n",
       "        117,  12,  37, 164, 119,   9, 168,  42, 106,  74, 168,  45,  51,\n",
       "         59, 146,  53,  21,   1, 156, 121, 117,  28, 194, 180, 154,  45,\n",
       "        157,  80, 168, 112,  90,  14, 110,  50, 182, 118,  86, 147, 183,\n",
       "         12,  45,  41,  11,  79, 111, 100, 164, 142, 109, 150,  90,  60,\n",
       "          8, 153,   5,   2,  98, 172, 123, 160,  42, 104,  25, 166, 164,\n",
       "        165, 113,  11,   4,  45, 175, 118,  25, 176,  31, 112,  76, 144,\n",
       "         58, 175, 110,  67, 115, 159,  84,  34,  53,  71,   7, 160,  99,\n",
       "        167,  88, 144,  57, 153, 138, 196, 182, 112,  67,   7,  52,  65,\n",
       "        173, 100,  47,  85, 154, 174,  94,  54,   7,   1,   1, 186,  77,\n",
       "         56,  34, 195, 108,  89, 138,  18, 178,  53, 101, 182,  47,  36,\n",
       "        116,  78, 191, 114, 175, 191,  99,  61,  77, 125, 166,  49,  29,\n",
       "         80,   8]),\n",
       " array([127, 188,  26,  14, 151,  30, 141, 163,   2,  89,  60,  32,  13,\n",
       "         10, 112,  49, 195, 149,  18,  25, 150,   8, 185,   4,  12,  64,\n",
       "          7, 178,  82,  77,  90,  26, 170,  53,  79,  79, 104,  43,  91,\n",
       "         84,  55, 142, 137,  49,   9, 103,  56,  44,  47,  54,  84,   5,\n",
       "        115,  63,  41,  40,  63, 191,  92, 121, 116, 185, 169, 120,  24,\n",
       "         38, 189,  29,   2,  12, 181, 183, 109,  73, 142, 149,  36,  12,\n",
       "        165, 162, 104,  73, 138,  59,  28,  77,  78, 142,  61,   2,  75,\n",
       "        159,  74,  26, 110, 189,  57, 146, 193,  10, 121, 167,  80,  68,\n",
       "         75,  37,  43,  76,   5,  20,  48, 141, 196, 156, 133,  34, 187,\n",
       "         28,  96, 121, 165, 173,  15,  75, 119,  49, 154,  16,  97,  37,\n",
       "         54,  73, 130,  82,  67, 141, 183, 109, 173, 156,  53, 163,  40,\n",
       "        115, 177, 160, 193, 108, 117,  36, 183,  63,  34,  24, 189,  27,\n",
       "        181,  16, 144,  24,  15,  76,  39, 101,  31,  85, 129,  27, 156,\n",
       "        189,   8,  69,  33,  94,  14, 176, 139,  23,  16,  54,  94,  17,\n",
       "        149, 155, 167,  87, 175, 179,  56,   3, 163, 176, 185, 177, 139,\n",
       "        141,  15]),\n",
       " array([157,  26, 124,   8, 158, 148,  62,  29,  60,  83, 158, 125, 117,\n",
       "        163,  43,   1,  77, 131, 170,  11, 107, 180, 158, 157,  46, 185,\n",
       "         88, 102, 184,  55,  97,  99,  98,  92,   0, 163, 123, 108,  95,\n",
       "        164, 146,  10, 145, 183,  85, 190, 164, 179,  45,  89,   4,  79,\n",
       "         97, 163, 115,  70,  76, 132,  38, 148,  28,  28,   9,  50, 132,\n",
       "         60,  84, 154,  50, 140,  46, 131,  20,  21,  16,  75, 148,  84,\n",
       "        156, 189, 114, 168, 104, 191, 123, 100,  99,   3, 189,  44,  46,\n",
       "        124,  98,  64, 100,   4, 129,  33,  41, 142, 178, 179,  62,  61,\n",
       "         92, 150, 120,  62,  12, 140,  85, 196, 176,  80,  41, 191,  57,\n",
       "          4,   1,  96, 147, 160,  63,  78, 168, 118,  95,  10,  47, 121,\n",
       "        109,  49,  59, 132,  81, 129, 176, 106,  50,  84, 161, 102, 172,\n",
       "        129,  99,  12,   9, 169,  37,  75,  78,  77, 189,  26, 193,  76,\n",
       "         30,  86,  89, 103,  88,  47, 147,  25,  82,  79,  88, 148, 160,\n",
       "        154,  98,  28,  18, 194,  16, 119,  25,  57, 114, 184,   3, 173,\n",
       "        163,  57, 111, 152,  98, 147, 174,  39, 143, 138,  24,  81, 176,\n",
       "         37,  57]),\n",
       " array([120, 182,  14,  34, 121, 176,  70,  52,  15, 144, 186,   2,  34,\n",
       "          5,  42,  48,  81, 169,  91, 161,  75, 145, 164,  15, 104,  79,\n",
       "        150, 194, 102, 105,  69, 156, 190,  41, 142, 183,  64,  31, 167,\n",
       "         55, 173, 147,  88,  97,  58,  59, 103, 114, 127, 140, 114,  21,\n",
       "        100,  96, 124,   7,   7, 113,  26,   3,   4, 157, 104,  45,  77,\n",
       "        127,  31,  58,  31, 152,  87,  18, 112, 154,  15,  51, 157,   5,\n",
       "        139, 165, 183, 110,  80,   1,  70, 137,  52, 126,   4,  95,  76,\n",
       "        167, 190, 186, 144,  27,  22,  60,  95,  76,  12, 158, 187, 147,\n",
       "         34,  37,  47,  89, 195,  81,  69, 193,  28, 161,  73, 102,  66,\n",
       "         76,  88,  10,  63, 159, 192,  34,  80,   3, 103, 107, 112,  55,\n",
       "         28,  78, 187,  98, 191, 107,  99,  91, 166, 123,  84, 112,  86,\n",
       "        180,  94, 167,  35, 143, 167, 172,  22,  95, 162, 128,  23,  64,\n",
       "        116, 120, 113, 188,  41, 190, 168,  94, 172, 100, 128,  69, 121,\n",
       "        176,  16,  41, 124,  94,  52,  87,  56,  16,  22,  89,   1, 195,\n",
       "        123, 149, 107,  53,   5,  78, 147,  88,  85,   5,  53, 196,  51,\n",
       "        120, 167]),\n",
       " array([ 76,  65,  13, 151,  91, 180, 125, 186,  96, 170, 158,  56,  70,\n",
       "         44, 196, 106, 101,  39, 168, 160,  53,  67,   3, 160,  49,  40,\n",
       "        179,  95, 110, 124,   5,  36,  62, 114, 163, 125, 162, 176,  88,\n",
       "        166,  78, 111, 113,  62, 139,  11, 190, 170, 175,  29,  20,  97,\n",
       "         74,  19,  98,  54, 144,  66,  77,  79, 171, 124,  21,  50, 150,\n",
       "        101, 111,  31,  15,  92,  26,  58, 188, 164,  90,  98,  15,   2,\n",
       "        189,  64,  24,  64,  87, 176, 142,  56, 142, 113, 138,   9, 136,\n",
       "         21,  90, 189, 110, 134, 165,  33,  30, 124,  55,   4,  97, 147,\n",
       "         43, 194,  29, 136,  65, 171, 144, 131, 164,  26, 193,  91,   7,\n",
       "         13, 111, 135,  59,   9, 188, 195, 107,  15,  57, 177,   9,   8,\n",
       "         96,  31,  88,  70,  68, 153,  18, 189, 159, 173, 156, 189, 126,\n",
       "        183, 186,  25,  16,  12, 144,  46, 107,  24,  19,   6,  12,  78,\n",
       "        105, 157, 151, 106, 128,  24,  11,  97, 128,   3, 180, 122, 155,\n",
       "         15, 132, 105,  97,  22, 190, 118, 148,  79,  30, 127, 118, 140,\n",
       "         35, 131, 151,  15, 147,  90,  71, 109, 185,  69, 181,   0, 156,\n",
       "         88,   9])]"
      ]
     },
     "execution_count": 11,
     "metadata": {},
     "output_type": "execute_result"
    }
   ],
   "source": [
    "bag_model.estimators_samples_ #Her bir agacdaki örnekler"
   ]
  },
  {
   "cell_type": "code",
   "execution_count": 13,
   "id": "2ff1274e-2b23-4ef8-ab78-91ddeb2ceff4",
   "metadata": {},
   "outputs": [
    {
     "data": {
      "text/plain": [
       "[array([ 4, 13, 17,  6,  8, 17,  2,  9, 12,  0,  1,  1, 11,  7,  8, 15, 15,\n",
       "        15,  0]),\n",
       " array([ 8,  4, 15, 17, 11,  1, 15,  4, 11,  3, 16, 16, 10, 16,  4, 18, 15,\n",
       "        10,  1]),\n",
       " array([ 0, 13,  4, 16,  2,  3, 14, 11,  2,  1,  4, 17, 16,  1,  8, 15, 14,\n",
       "         1, 16]),\n",
       " array([16, 14,  9, 15, 10, 18,  8, 12,  7,  7,  2, 12,  7, 13,  2,  7, 13,\n",
       "        17,  9]),\n",
       " array([ 4, 17,  1, 13, 12, 11,  0, 12,  6, 14,  2,  6,  7,  7,  6, 10, 13,\n",
       "         1,  7]),\n",
       " array([ 4,  8,  9, 11,  7,  1,  5,  3, 13,  8,  9, 17, 11, 10, 11, 15, 11,\n",
       "        14, 17]),\n",
       " array([ 4, 18,  2,  2,  5,  8, 15, 12, 11, 18,  2, 13,  9, 15,  3,  2,  1,\n",
       "        14, 17]),\n",
       " array([18, 13, 12, 18, 16,  8, 14,  2,  8,  9, 10, 11, 17,  5, 13,  4, 13,\n",
       "        10,  6]),\n",
       " array([ 2, 12,  1, 16,  0, 18, 13, 13,  1, 16,  2,  5, 11,  3, 10,  4,  2,\n",
       "         0, 13]),\n",
       " array([ 3,  9, 15,  8, 13,  4, 16,  9,  4, 14,  4, 11, 11, 16, 18,  7,  8,\n",
       "         4, 14])]"
      ]
     },
     "execution_count": 13,
     "metadata": {},
     "output_type": "execute_result"
    }
   ],
   "source": [
    "bag_model.estimators_features_ #Butun agaclarin kullandigi degiskenler ve indexleri"
   ]
  },
  {
   "cell_type": "markdown",
   "id": "7ab0221f-aac8-4774-bf17-967b3a0e2196",
   "metadata": {},
   "source": [
    "# Tahmin"
   ]
  },
  {
   "cell_type": "code",
   "execution_count": 16,
   "id": "4c2d9f9e-be60-4b05-a7d1-46195f97bd9d",
   "metadata": {},
   "outputs": [],
   "source": [
    "y_pred = bag_model.predict(X_test)"
   ]
  },
  {
   "cell_type": "code",
   "execution_count": 17,
   "id": "16176fd0-dc85-418f-98b7-6ac6ec9759b4",
   "metadata": {},
   "outputs": [
    {
     "data": {
      "text/plain": [
       "330.3855619389633"
      ]
     },
     "execution_count": 17,
     "metadata": {},
     "output_type": "execute_result"
    }
   ],
   "source": [
    "np.sqrt(mean_squared_error(y_test, y_pred))"
   ]
  },
  {
   "cell_type": "code",
   "execution_count": 21,
   "id": "436bbc36-0422-4aed-bf9c-47cc196192e1",
   "metadata": {},
   "outputs": [],
   "source": [
    "iki_y_pred = bag_model.estimators_[1].fit(X_train, y_train).predict(X_test)"
   ]
  },
  {
   "cell_type": "code",
   "execution_count": 22,
   "id": "82e578b6-277f-45fd-bdc9-975ade146638",
   "metadata": {},
   "outputs": [
    {
     "data": {
      "text/plain": [
       "473.0130992033942"
      ]
     },
     "execution_count": 22,
     "metadata": {},
     "output_type": "execute_result"
    }
   ],
   "source": [
    "np.sqrt(mean_squared_error(y_test, iki_y_pred))"
   ]
  },
  {
   "cell_type": "code",
   "execution_count": 23,
   "id": "9ed00a13-e63e-40e3-b8a9-4c544416c43a",
   "metadata": {},
   "outputs": [],
   "source": [
    "yedi_y_pred = bag_model.estimators_[4].fit(X_train, y_train).predict(X_test)"
   ]
  },
  {
   "cell_type": "code",
   "execution_count": 24,
   "id": "d9edc438-9acc-4142-891d-1f32b2a6f780",
   "metadata": {},
   "outputs": [
    {
     "data": {
      "text/plain": [
       "516.6793429895725"
      ]
     },
     "execution_count": 24,
     "metadata": {},
     "output_type": "execute_result"
    }
   ],
   "source": [
    "np.sqrt(mean_squared_error(y_test, yedi_y_pred))"
   ]
  },
  {
   "cell_type": "markdown",
   "id": "c622fbe4-4f73-46dc-b5ef-636f6b007719",
   "metadata": {},
   "source": [
    "# Model Tuning"
   ]
  },
  {
   "cell_type": "code",
   "execution_count": 25,
   "id": "46060211-3458-4676-bf54-1b903656a603",
   "metadata": {},
   "outputs": [
    {
     "data": {
      "text/plain": [
       "BaggingRegressor(bootstrap_features=True)"
      ]
     },
     "execution_count": 25,
     "metadata": {},
     "output_type": "execute_result"
    }
   ],
   "source": [
    "bag_model = BaggingRegressor(bootstrap_features = True)\n",
    "bag_model.fit(X_train, y_train)"
   ]
  },
  {
   "cell_type": "code",
   "execution_count": 26,
   "id": "e560c304-3515-4f15-9d09-a5839910b64f",
   "metadata": {},
   "outputs": [],
   "source": [
    "bag_params = {\"n_estimators\": range(2,20)}"
   ]
  },
  {
   "cell_type": "code",
   "execution_count": 27,
   "id": "d9dd0c9d-d46f-4688-a0b4-766150e82bad",
   "metadata": {},
   "outputs": [],
   "source": [
    "bag_cv_model = GridSearchCV(bag_model, bag_params, cv = 10)"
   ]
  },
  {
   "cell_type": "code",
   "execution_count": 28,
   "id": "c09769c7-e5f8-40de-9f5c-e52a6ed0c530",
   "metadata": {},
   "outputs": [
    {
     "data": {
      "text/plain": [
       "GridSearchCV(cv=10, estimator=BaggingRegressor(bootstrap_features=True),\n",
       "             param_grid={'n_estimators': range(2, 20)})"
      ]
     },
     "execution_count": 28,
     "metadata": {},
     "output_type": "execute_result"
    }
   ],
   "source": [
    "bag_cv_model.fit(X_train, y_train)"
   ]
  },
  {
   "cell_type": "code",
   "execution_count": 29,
   "id": "0c4be35f-8020-41f9-8f49-e64d1b3a3476",
   "metadata": {},
   "outputs": [
    {
     "data": {
      "text/plain": [
       "{'n_estimators': 16}"
      ]
     },
     "execution_count": 29,
     "metadata": {},
     "output_type": "execute_result"
    }
   ],
   "source": [
    "bag_cv_model.best_params_"
   ]
  },
  {
   "cell_type": "code",
   "execution_count": 30,
   "id": "397e03ce-0dbe-4c7a-b746-91ec4f98d8d6",
   "metadata": {},
   "outputs": [],
   "source": [
    "bag_tuned = BaggingRegressor( n_estimators = 14, random_state = 45)"
   ]
  },
  {
   "cell_type": "code",
   "execution_count": 31,
   "id": "01d7742b-3f42-4c13-9c01-dc7f52fce05e",
   "metadata": {},
   "outputs": [
    {
     "data": {
      "text/plain": [
       "BaggingRegressor(n_estimators=14, random_state=45)"
      ]
     },
     "execution_count": 31,
     "metadata": {},
     "output_type": "execute_result"
    }
   ],
   "source": [
    "bag_tuned.fit(X_train, y_train)"
   ]
  },
  {
   "cell_type": "code",
   "execution_count": 32,
   "id": "b83f3c56-e69a-45f0-94a0-d41abf09f192",
   "metadata": {},
   "outputs": [],
   "source": [
    "y_pred = bag_tuned.predict(X_test)"
   ]
  },
  {
   "cell_type": "code",
   "execution_count": 33,
   "id": "25a74c15-1504-4086-9fb3-3542e2627aa2",
   "metadata": {},
   "outputs": [
    {
     "data": {
      "text/plain": [
       "346.457987188104"
      ]
     },
     "execution_count": 33,
     "metadata": {},
     "output_type": "execute_result"
    }
   ],
   "source": [
    "np.sqrt(mean_squared_error(y_test, y_pred))"
   ]
  },
  {
   "cell_type": "code",
   "execution_count": null,
   "id": "a6ec648d-b062-46a4-9363-88f3f05f0ce3",
   "metadata": {},
   "outputs": [],
   "source": []
  }
 ],
 "metadata": {
  "kernelspec": {
   "display_name": "Python 3 (ipykernel)",
   "language": "python",
   "name": "python3"
  },
  "language_info": {
   "codemirror_mode": {
    "name": "ipython",
    "version": 3
   },
   "file_extension": ".py",
   "mimetype": "text/x-python",
   "name": "python",
   "nbconvert_exporter": "python",
   "pygments_lexer": "ipython3",
   "version": "3.9.13"
  }
 },
 "nbformat": 4,
 "nbformat_minor": 5
}
